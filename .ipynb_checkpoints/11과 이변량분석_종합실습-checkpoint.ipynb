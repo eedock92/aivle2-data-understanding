{
 "cells": [
  {
   "cell_type": "markdown",
   "metadata": {
    "id": "qXUBfCONOdID"
   },
   "source": [
    "# 11과 이변량분석 종합실습"
   ]
  },
  {
   "cell_type": "markdown",
   "metadata": {
    "id": "DAR82IvULLEt"
   },
   "source": [
    "## 환경준비"
   ]
  },
  {
   "cell_type": "code",
   "execution_count": 1,
   "metadata": {
    "id": "bTVrr9iaLNsy"
   },
   "outputs": [
    {
     "name": "stderr",
     "output_type": "stream",
     "text": [
      "C:\\Users\\User\\anaconda3\\lib\\site-packages\\statsmodels\\tsa\\base\\tsa_model.py:7: FutureWarning: pandas.Int64Index is deprecated and will be removed from pandas in a future version. Use pandas.Index with the appropriate dtype instead.\n",
      "  from pandas import (to_datetime, Int64Index, DatetimeIndex, Period,\n",
      "C:\\Users\\User\\anaconda3\\lib\\site-packages\\statsmodels\\tsa\\base\\tsa_model.py:7: FutureWarning: pandas.Float64Index is deprecated and will be removed from pandas in a future version. Use pandas.Index with the appropriate dtype instead.\n",
      "  from pandas import (to_datetime, Int64Index, DatetimeIndex, Period,\n"
     ]
    }
   ],
   "source": [
    "import pandas as pd\n",
    "import numpy as np\n",
    "\n",
    "import matplotlib.pyplot as plt\n",
    "import seaborn as sns\n",
    "import scipy.stats as spst\n",
    "from statsmodels.graphics.mosaicplot import mosaic\n",
    "import statsmodels.api as sm"
   ]
  },
  {
   "cell_type": "markdown",
   "metadata": {
    "id": "bBRhuVPyf4td"
   },
   "source": [
    "# 1.숫자형 Y : car seat 매출 분석"
   ]
  },
  {
   "cell_type": "markdown",
   "metadata": {
    "id": "QB2bBgnB8NM7"
   },
   "source": [
    "* 카시트에 대해서 지역 매장 별 매출액을 예측하고자 합니다."
   ]
  },
  {
   "cell_type": "markdown",
   "metadata": {
    "id": "7usNzsAVsGbi"
   },
   "source": [
    "![](https://cdn.images.express.co.uk/img/dynamic/24/590x/child-car-seat-986556.jpg?r=1532946857754)"
   ]
  },
  {
   "cell_type": "markdown",
   "metadata": {
    "id": "zYKHwYHatC4k"
   },
   "source": [
    "|\t변수명\t|\t설명\t|\t구분\t|\n",
    "|\t----\t|\t----\t|\t----\t|\n",
    "|\tSales \t|\t 각 지역 판매량(단위 : 1000개)\t|\tTarget\t|\n",
    "|\tCompPrice \t|\t지역별 경쟁사 판매가격(달러)\t|\tfeature\t|\n",
    "|\tAdvertising \t|\t 각 지역, 회사의 광고 예산(단위 : 1000달러)\t|\tfeature\t|\n",
    "|\tPopulation \t|\t 지역 인구수(단위 : 1000명)\t|\tfeature\t|\n",
    "|\tPrice \t|\t 자사 지역별 판매가격(달러)\t|\tfeature\t|\n",
    "|\tShelveLoc \t|\t 진열상태\t|\tfeature\t|\n",
    "|\tAge \t|\t 지역 인구의 평균 연령\t|\tfeature\t|\n",
    "|\tUS \t|\t 매장이 미국에 있는지 여부\t|\tfeature\t|\n",
    "|\tIncome \t|\t 지역 주민 평균 소득\t|\tfeature\t|\n",
    "|\tUrban \t|\t 매장이 도시에 있는지 여부\t|\tfeature\t|\n",
    "|\tEducation \t|\t 지역 주민 평균 교육수준(범주: 11~17)\t|\tfeature\t|\n",
    "\n"
   ]
  },
  {
   "cell_type": "code",
   "execution_count": 2,
   "metadata": {
    "id": "QG28HshT8SfH"
   },
   "outputs": [
    {
     "data": {
      "text/html": [
       "<div>\n",
       "<style scoped>\n",
       "    .dataframe tbody tr th:only-of-type {\n",
       "        vertical-align: middle;\n",
       "    }\n",
       "\n",
       "    .dataframe tbody tr th {\n",
       "        vertical-align: top;\n",
       "    }\n",
       "\n",
       "    .dataframe thead th {\n",
       "        text-align: right;\n",
       "    }\n",
       "</style>\n",
       "<table border=\"1\" class=\"dataframe\">\n",
       "  <thead>\n",
       "    <tr style=\"text-align: right;\">\n",
       "      <th></th>\n",
       "      <th>Sales</th>\n",
       "      <th>CompPrice</th>\n",
       "      <th>Advertising</th>\n",
       "      <th>Population</th>\n",
       "      <th>Price</th>\n",
       "      <th>ShelveLoc</th>\n",
       "      <th>Age</th>\n",
       "      <th>US</th>\n",
       "    </tr>\n",
       "  </thead>\n",
       "  <tbody>\n",
       "    <tr>\n",
       "      <th>0</th>\n",
       "      <td>9.50</td>\n",
       "      <td>138</td>\n",
       "      <td>11</td>\n",
       "      <td>276</td>\n",
       "      <td>120</td>\n",
       "      <td>Bad</td>\n",
       "      <td>42</td>\n",
       "      <td>Yes</td>\n",
       "    </tr>\n",
       "    <tr>\n",
       "      <th>1</th>\n",
       "      <td>11.22</td>\n",
       "      <td>111</td>\n",
       "      <td>16</td>\n",
       "      <td>260</td>\n",
       "      <td>83</td>\n",
       "      <td>Good</td>\n",
       "      <td>65</td>\n",
       "      <td>Yes</td>\n",
       "    </tr>\n",
       "    <tr>\n",
       "      <th>2</th>\n",
       "      <td>10.06</td>\n",
       "      <td>113</td>\n",
       "      <td>10</td>\n",
       "      <td>269</td>\n",
       "      <td>80</td>\n",
       "      <td>Medium</td>\n",
       "      <td>59</td>\n",
       "      <td>Yes</td>\n",
       "    </tr>\n",
       "    <tr>\n",
       "      <th>3</th>\n",
       "      <td>7.40</td>\n",
       "      <td>117</td>\n",
       "      <td>4</td>\n",
       "      <td>466</td>\n",
       "      <td>97</td>\n",
       "      <td>Medium</td>\n",
       "      <td>55</td>\n",
       "      <td>Yes</td>\n",
       "    </tr>\n",
       "    <tr>\n",
       "      <th>4</th>\n",
       "      <td>4.15</td>\n",
       "      <td>141</td>\n",
       "      <td>3</td>\n",
       "      <td>340</td>\n",
       "      <td>128</td>\n",
       "      <td>Bad</td>\n",
       "      <td>38</td>\n",
       "      <td>No</td>\n",
       "    </tr>\n",
       "  </tbody>\n",
       "</table>\n",
       "</div>"
      ],
      "text/plain": [
       "   Sales  CompPrice  Advertising  Population  Price ShelveLoc  Age   US\n",
       "0   9.50        138           11         276    120       Bad   42  Yes\n",
       "1  11.22        111           16         260     83      Good   65  Yes\n",
       "2  10.06        113           10         269     80    Medium   59  Yes\n",
       "3   7.40        117            4         466     97    Medium   55  Yes\n",
       "4   4.15        141            3         340    128       Bad   38   No"
      ]
     },
     "execution_count": 2,
     "metadata": {},
     "output_type": "execute_result"
    }
   ],
   "source": [
    "path = 'https://raw.githubusercontent.com/JunhoYu/Data-Analysis/main/Carseats.csv'\n",
    "data = pd.read_csv(path)\n",
    "data.drop(['Income', 'Urban', 'Education'],axis = 1, inplace = True)\n",
    "data.head()"
   ]
  },
  {
   "cell_type": "code",
   "execution_count": 3,
   "metadata": {
    "id": "qZ13M3G6y1h3"
   },
   "outputs": [],
   "source": [
    "target = 'Sales'"
   ]
  },
  {
   "cell_type": "markdown",
   "metadata": {
    "id": "4hzLzBmgJCPm"
   },
   "source": [
    "### (1) 숫자형(수치형) X --> Y\n",
    "* 모든 숫자형 X에 대해서 Y와 비교하여 차트를 그리고 수치화 하시오.\n",
    "\n",
    "① 시각화 : scatter, jointplot  \n",
    "② 수치화 : 상관분석"
   ]
  },
  {
   "cell_type": "markdown",
   "metadata": {
    "id": "afL0_rKpEoTz"
   },
   "source": [
    "#### ① Advertising -> Sales"
   ]
  },
  {
   "cell_type": "markdown",
   "metadata": {
    "id": "YunT0YT3yvUF"
   },
   "source": [
    "1) 시각화 : scatter(regplot), jointplot"
   ]
  },
  {
   "cell_type": "code",
   "execution_count": 72,
   "metadata": {
    "id": "4Fo6Vzsiyv6d"
   },
   "outputs": [],
   "source": [
    "adv='Advertising'"
   ]
  },
  {
   "cell_type": "code",
   "execution_count": 7,
   "metadata": {
    "id": "G-gewf-l1R5j"
   },
   "outputs": [
    {
     "data": {
      "image/png": "[encoded data removed]",
      "text/plain": [
       "<Figure size 432x288 with 1 Axes>"
      ]
     },
     "metadata": {
      "needs_background": "light"
     },
     "output_type": "display_data"
    }
   ],
   "source": [
    "plt.scatter(x='Advertising',y='Sales', data = data)\n",
    "plt.show()"
   ]
  },
  {
   "cell_type": "code",
   "execution_count": 90,
   "metadata": {},
   "outputs": [
    {
     "data": {
      "image/png": "[encoded data removed]",
      "text/plain": [
       "<Figure size 432x288 with 1 Axes>"
      ]
     },
     "metadata": {
      "needs_background": "light"
     },
     "output_type": "display_data"
    }
   ],
   "source": [
    "sns.regplot(x=adv, y=target, data = data)\n",
    "plt.show()"
   ]
  },
  {
   "cell_type": "code",
   "execution_count": 15,
   "metadata": {
    "id": "BswdJxLZ1R2Y"
   },
   "outputs": [
    {
     "data": {
      "image/png": "[encoded data removed]",
      "text/plain": [
       "<Figure size 432x432 with 3 Axes>"
      ]
     },
     "metadata": {
      "needs_background": "light"
     },
     "output_type": "display_data"
    }
   ],
   "source": [
    "sns.jointplot(x='Advertising',y='Sales', data = data)\n",
    "plt.show()"
   ]
  },
  {
   "cell_type": "markdown",
   "metadata": {
    "id": "N5HKr4Nuzblr"
   },
   "source": [
    "2) 수치화 : 상관분석"
   ]
  },
  {
   "cell_type": "code",
   "execution_count": 74,
   "metadata": {
    "id": "-fBjDAm6ze5F"
   },
   "outputs": [
    {
     "data": {
      "text/plain": [
       "(0.269506781376902, 4.377677110302732e-08)"
      ]
     },
     "execution_count": 74,
     "metadata": {},
     "output_type": "execute_result"
    }
   ],
   "source": [
    "adv_pr = spst.pearsonr(data[adv],data[target])\n",
    "adv_pr"
   ]
  },
  {
   "cell_type": "markdown",
   "metadata": {
    "id": "uP5mxn4kzpYL"
   },
   "source": [
    "3) 시각화와 수치화 결과로부터 파악한 내용을 적어 봅시다."
   ]
  },
  {
   "cell_type": "markdown",
   "metadata": {
    "id": "QG6MuyqqzxQd"
   },
   "source": [
    "0.26 약간의 양의 상관관계는 있어보였으나 p-value가 5%보다 높아서 연관성이 없다고 판단.\n",
    "0은 해외 광고를 하지 않는다고 판단."
   ]
  },
  {
   "cell_type": "markdown",
   "metadata": {
    "id": "WkqKQdQADSiq"
   },
   "source": [
    "#### ② Population -> Sales"
   ]
  },
  {
   "cell_type": "markdown",
   "metadata": {
    "id": "e7-fblmCHEBx"
   },
   "source": [
    "1) 시각화 : scatter(regplot), jointplot"
   ]
  },
  {
   "cell_type": "code",
   "execution_count": 75,
   "metadata": {
    "id": "kF4lHn2a1UBQ"
   },
   "outputs": [],
   "source": [
    "data['Population'].isna().sum()\n",
    "pop = 'Population'"
   ]
  },
  {
   "cell_type": "code",
   "execution_count": 76,
   "metadata": {
    "id": "a1nIT3Nv1T-W"
   },
   "outputs": [
    {
     "data": {
      "image/png": "[encoded data removed]",
      "text/plain": [
       "<Figure size 432x288 with 1 Axes>"
      ]
     },
     "metadata": {
      "needs_background": "light"
     },
     "output_type": "display_data"
    }
   ],
   "source": [
    "plt.scatter(x=pop,y=target, data=data)\n",
    "plt.show()"
   ]
  },
  {
   "cell_type": "code",
   "execution_count": 91,
   "metadata": {},
   "outputs": [
    {
     "data": {
      "image/png": "[encoded data removed]",
      "text/plain": [
       "<Figure size 432x288 with 1 Axes>"
      ]
     },
     "metadata": {
      "needs_background": "light"
     },
     "output_type": "display_data"
    }
   ],
   "source": [
    "sns.regplot(x=pop, y=target, data = data)\n",
    "plt.show()"
   ]
  },
  {
   "cell_type": "code",
   "execution_count": 77,
   "metadata": {
    "id": "N4Azsv331T7h"
   },
   "outputs": [
    {
     "data": {
      "image/png": "[encoded data removed]",
      "text/plain": [
       "<Figure size 432x432 with 3 Axes>"
      ]
     },
     "metadata": {
      "needs_background": "light"
     },
     "output_type": "display_data"
    }
   ],
   "source": [
    "sns.jointplot(x=pop,y=target, data=data)\n",
    "plt.show()"
   ]
  },
  {
   "cell_type": "markdown",
   "metadata": {
    "id": "ED8SWST8HEBy"
   },
   "source": [
    "2) 수치화 : 상관분석"
   ]
  },
  {
   "cell_type": "code",
   "execution_count": 79,
   "metadata": {
    "id": "-gTJfRz8HEBy"
   },
   "outputs": [
    {
     "data": {
      "text/plain": [
       "(0.0504709844720392, 0.31398160931903)"
      ]
     },
     "execution_count": 79,
     "metadata": {},
     "output_type": "execute_result"
    }
   ],
   "source": [
    "pop_pr = spst.pearsonr(data[pop],data[target])\n",
    "pop_pr"
   ]
  },
  {
   "cell_type": "markdown",
   "metadata": {
    "id": "GeWL3VKyHEBz"
   },
   "source": [
    "3) 시각화와 수치화 결과로부터 파악한 내용을 적어 봅시다."
   ]
  },
  {
   "cell_type": "markdown",
   "metadata": {
    "id": "DS2cSXk6HEBz"
   },
   "source": [
    "연관성이 없어보이나 p-value를 보는 5%이하면 어느 정도 연관이 있는 것이 아닌가?\n",
    "근데 없다고 나옴\n",
    "인구수가 많으면 판매량이 많은거 아닌가?"
   ]
  },
  {
   "cell_type": "markdown",
   "metadata": {
    "id": "dGm2hHTFDSo4"
   },
   "source": [
    "#### ③ Price -> Sales"
   ]
  },
  {
   "cell_type": "markdown",
   "metadata": {
    "id": "GWgqhqnBHP84"
   },
   "source": [
    "1) 시각화 : scatter(regplot), jointplot"
   ]
  },
  {
   "cell_type": "code",
   "execution_count": 60,
   "metadata": {
    "id": "hih1wE7h1Vzw"
   },
   "outputs": [],
   "source": [
    "price='Price'"
   ]
  },
  {
   "cell_type": "code",
   "execution_count": 61,
   "metadata": {
    "id": "pNJZ9h_V1Vw1"
   },
   "outputs": [
    {
     "data": {
      "image/png": "[encoded data removed]",
      "text/plain": [
       "<Figure size 432x288 with 1 Axes>"
      ]
     },
     "metadata": {
      "needs_background": "light"
     },
     "output_type": "display_data"
    }
   ],
   "source": [
    "plt.scatter(x=price,y=target, data=data)\n",
    "plt.show()"
   ]
  },
  {
   "cell_type": "code",
   "execution_count": 92,
   "metadata": {},
   "outputs": [
    {
     "data": {
      "image/png": "[encoded data removed]",
      "text/plain": [
       "<Figure size 432x288 with 1 Axes>"
      ]
     },
     "metadata": {
      "needs_background": "light"
     },
     "output_type": "display_data"
    }
   ],
   "source": [
    "sns.regplot(x=price, y=target, data = data)\n",
    "plt.show()"
   ]
  },
  {
   "cell_type": "code",
   "execution_count": 62,
   "metadata": {
    "id": "XtuuZymw1Vty"
   },
   "outputs": [
    {
     "data": {
      "image/png": "[encoded data removed]",
      "text/plain": [
       "<Figure size 432x432 with 3 Axes>"
      ]
     },
     "metadata": {
      "needs_background": "light"
     },
     "output_type": "display_data"
    }
   ],
   "source": [
    "sns.jointplot(x=price,y=target, data=data)\n",
    "plt.show()"
   ]
  },
  {
   "cell_type": "markdown",
   "metadata": {
    "id": "l_YKUnlaHP85"
   },
   "source": [
    "2) 수치화 : 상관분석"
   ]
  },
  {
   "cell_type": "code",
   "execution_count": 80,
   "metadata": {
    "id": "U7FgG7ubHP86"
   },
   "outputs": [
    {
     "data": {
      "text/plain": [
       "(-0.4449507278465726, 7.61818701191294e-21)"
      ]
     },
     "execution_count": 80,
     "metadata": {},
     "output_type": "execute_result"
    }
   ],
   "source": [
    "pri_pr = spst.pearsonr(data[price],data[target])\n",
    "pri_pr"
   ]
  },
  {
   "cell_type": "markdown",
   "metadata": {
    "id": "Sq9ZLHj3HP86"
   },
   "source": [
    "3) 시각화와 수치화 결과로부터 파악한 내용을 적어 봅시다."
   ]
  },
  {
   "cell_type": "markdown",
   "metadata": {
    "id": "ZGCehEv0HP86"
   },
   "source": [
    "가격과 판매는 약간 음의 상관관계가 있어보이나 연관성은 없어보인다"
   ]
  },
  {
   "cell_type": "markdown",
   "metadata": {
    "id": "KsL7SblJHdVA"
   },
   "source": [
    "#### ④ Age -> Sales"
   ]
  },
  {
   "cell_type": "markdown",
   "metadata": {
    "id": "4IkaWl_jHdVB"
   },
   "source": [
    "1) 시각화 : scatter(regplot), jointplot"
   ]
  },
  {
   "cell_type": "code",
   "execution_count": 59,
   "metadata": {
    "id": "4LPxnFPJ1Xa_"
   },
   "outputs": [],
   "source": [
    "age='Age'"
   ]
  },
  {
   "cell_type": "code",
   "execution_count": 64,
   "metadata": {
    "id": "588dXJMq1XXx"
   },
   "outputs": [
    {
     "data": {
      "image/png": "[encoded data removed]",
      "text/plain": [
       "<Figure size 432x288 with 1 Axes>"
      ]
     },
     "metadata": {
      "needs_background": "light"
     },
     "output_type": "display_data"
    }
   ],
   "source": [
    "plt.scatter(x=age,y=target, data=data)\n",
    "plt.show()"
   ]
  },
  {
   "cell_type": "code",
   "execution_count": 65,
   "metadata": {
    "id": "5HJ5Kic91XUr"
   },
   "outputs": [
    {
     "data": {
      "image/png": "[encoded data removed]",
      "text/plain": [
       "<Figure size 432x432 with 3 Axes>"
      ]
     },
     "metadata": {
      "needs_background": "light"
     },
     "output_type": "display_data"
    }
   ],
   "source": [
    "sns.jointplot(x=age,y=target, data=data)\n",
    "plt.show()"
   ]
  },
  {
   "cell_type": "markdown",
   "metadata": {
    "id": "buFsUkjtHdVC"
   },
   "source": [
    "2) 수치화 : 상관분석"
   ]
  },
  {
   "cell_type": "code",
   "execution_count": 81,
   "metadata": {
    "id": "cYfWspWoHdVC"
   },
   "outputs": [
    {
     "data": {
      "text/plain": [
       "(-0.2318154396045765, 2.7889498393711916e-06)"
      ]
     },
     "execution_count": 81,
     "metadata": {},
     "output_type": "execute_result"
    }
   ],
   "source": [
    "age_pr = spst.pearsonr(data[age],data[target])\n",
    "age_pr"
   ]
  },
  {
   "cell_type": "markdown",
   "metadata": {
    "id": "1ZwtXNzKHdVC"
   },
   "source": [
    "3) 시각화와 수치화 결과로부터 파악한 내용을 적어 봅시다."
   ]
  },
  {
   "cell_type": "raw",
   "metadata": {
    "id": "rlxmd1s6HdVC"
   },
   "source": [
    "상관관계가 미미하나 약간 젊은 층이 구매가 많고 연령이 높을 수록 떨어진다.\n",
    "약한 음의 상관관계."
   ]
  },
  {
   "cell_type": "markdown",
   "metadata": {
    "id": "RFz2SEdu9M9t"
   },
   "source": [
    "#### ⑤ CompPrice -> Sales"
   ]
  },
  {
   "cell_type": "markdown",
   "metadata": {
    "id": "XbMYB5l-9M9t"
   },
   "source": [
    "1) 시각화 : scatter(regplot), jointplot"
   ]
  },
  {
   "cell_type": "code",
   "execution_count": 68,
   "metadata": {
    "id": "ZawsASx81ZYn"
   },
   "outputs": [],
   "source": [
    "comp = 'CompPrice'"
   ]
  },
  {
   "cell_type": "code",
   "execution_count": 69,
   "metadata": {
    "id": "epRf_18c1ZVd"
   },
   "outputs": [
    {
     "data": {
      "image/png": "[encoded data removed]",
      "text/plain": [
       "<Figure size 432x288 with 1 Axes>"
      ]
     },
     "metadata": {
      "needs_background": "light"
     },
     "output_type": "display_data"
    }
   ],
   "source": [
    "plt.scatter(x=comp,y=target, data=data)\n",
    "plt.show()"
   ]
  },
  {
   "cell_type": "code",
   "execution_count": 70,
   "metadata": {
    "id": "G8BQW2E41ZSi"
   },
   "outputs": [
    {
     "data": {
      "image/png": "[encoded data removed]",
      "text/plain": [
       "<Figure size 432x432 with 3 Axes>"
      ]
     },
     "metadata": {
      "needs_background": "light"
     },
     "output_type": "display_data"
    }
   ],
   "source": [
    "sns.jointplot(x=comp,y=target, data=data)\n",
    "plt.show()"
   ]
  },
  {
   "cell_type": "markdown",
   "metadata": {
    "id": "DY_9ixr-9M9u"
   },
   "source": [
    "2) 수치화 : 상관분석"
   ]
  },
  {
   "cell_type": "code",
   "execution_count": 82,
   "metadata": {
    "id": "KZD0meaE9M9u"
   },
   "outputs": [
    {
     "data": {
      "text/plain": [
       "(0.06407872955062152, 0.2009398289418295)"
      ]
     },
     "execution_count": 82,
     "metadata": {},
     "output_type": "execute_result"
    }
   ],
   "source": [
    "comp_pr = spst.pearsonr(data[comp],data[target])\n",
    "comp_pr"
   ]
  },
  {
   "cell_type": "markdown",
   "metadata": {
    "id": "cFDIFb2f9M9u"
   },
   "source": [
    "3) 시각화와 수치화 결과로부터 파악한 내용을 적어 봅시다."
   ]
  },
  {
   "cell_type": "markdown",
   "metadata": {
    "id": "uzkypy5f9M9u"
   },
   "source": [
    "경쟁사와 판매량은 연관없음.. 구매할때 카시트는 다 거기서 거기인가 "
   ]
  },
  {
   "cell_type": "code",
   "execution_count": 93,
   "metadata": {},
   "outputs": [],
   "source": [
    "data['Price_diff'] =  data['CompPrice'] - data['Price']"
   ]
  },
  {
   "cell_type": "code",
   "execution_count": 96,
   "metadata": {},
   "outputs": [
    {
     "data": {
      "image/png": "[encoded data removed]",
      "text/plain": [
       "<Figure size 1080x360 with 3 Axes>"
      ]
     },
     "metadata": {
      "needs_background": "light"
     },
     "output_type": "display_data"
    }
   ],
   "source": [
    "plt.figure(figsize=(15,5))\n",
    "\n",
    "plt.subplot(1,3,1)\n",
    "plt.scatter(x='CompPrice',y=target, data=data)\n",
    "\n",
    "\n",
    "plt.subplot(1,3,2)\n",
    "plt.scatter(x='Price',y=target, data=data)\n",
    "\n",
    "\n",
    "plt.subplot(1,3,3)\n",
    "plt.scatter(x='Price_diff',y=target, data=data)\n",
    "plt.show()"
   ]
  },
  {
   "cell_type": "code",
   "execution_count": 97,
   "metadata": {},
   "outputs": [
    {
     "data": {
      "text/plain": [
       "(0.5979217124533921, 3.877120641788835e-40)"
      ]
     },
     "execution_count": 97,
     "metadata": {},
     "output_type": "execute_result"
    }
   ],
   "source": [
    "spst.pearsonr(data['Price_diff'],data[target])"
   ]
  },
  {
   "cell_type": "markdown",
   "metadata": {
    "id": "uFKvj_10EoQi"
   },
   "source": [
    "### (2) 범주형 X --> Y\n",
    "\n",
    "* 모든 범자형 X에 대해서 Y와 비교하여 차트를 그리고 수치화 하시오.\n",
    "\n",
    "① 시각화 : 평균비교 barplot  \n",
    "② 수치화 : t-test, anova"
   ]
  },
  {
   "cell_type": "markdown",
   "metadata": {
    "id": "Um7zx9GQEoNk"
   },
   "source": [
    "#### ① ShelveLoc-> Sales"
   ]
  },
  {
   "cell_type": "markdown",
   "metadata": {
    "id": "x6-EDDfS0AHi"
   },
   "source": [
    "1) 시각화 : 평균비교 barplot"
   ]
  },
  {
   "cell_type": "code",
   "execution_count": 26,
   "metadata": {
    "id": "JWa_TXpt0EXI"
   },
   "outputs": [
    {
     "data": {
      "text/plain": [
       "0"
      ]
     },
     "execution_count": 26,
     "metadata": {},
     "output_type": "execute_result"
    }
   ],
   "source": [
    "feature = 'ShelveLoc'\n",
    "data[feature].isna().sum()"
   ]
  },
  {
   "cell_type": "code",
   "execution_count": 47,
   "metadata": {},
   "outputs": [],
   "source": [
    "bad = data.loc[data[feature] == 'Bad',target]\n",
    "good = data.loc[data[feature] == 'Good',target]\n",
    "medium = data.loc[data[feature] == 'Medium',target]"
   ]
  },
  {
   "cell_type": "code",
   "execution_count": 42,
   "metadata": {},
   "outputs": [
    {
     "data": {
      "image/png": "[encoded data removed]",
      "text/plain": [
       "<Figure size 432x288 with 1 Axes>"
      ]
     },
     "metadata": {
      "needs_background": "light"
     },
     "output_type": "display_data"
    }
   ],
   "source": [
    "sns.barplot(x=feature,y=target,data=data)\n",
    "plt.grid()\n",
    "plt.show()"
   ]
  },
  {
   "cell_type": "markdown",
   "metadata": {
    "id": "APT6jp5z0MwB"
   },
   "source": [
    "2) 수치화 : t-test, anova"
   ]
  },
  {
   "cell_type": "code",
   "execution_count": 48,
   "metadata": {
    "id": "scByb4HG0NaC"
   },
   "outputs": [
    {
     "data": {
      "text/plain": [
       "F_onewayResult(statistic=92.22990509910346, pvalue=1.26693609015938e-33)"
      ]
     },
     "execution_count": 48,
     "metadata": {},
     "output_type": "execute_result"
    }
   ],
   "source": [
    "spst.f_oneway(bad,good,medium)"
   ]
  },
  {
   "cell_type": "markdown",
   "metadata": {
    "id": "wsHkDG-_1HgW"
   },
   "source": [
    "3) 시각화와 수치화 결과로부터 파악한 내용을 적어 봅시다."
   ]
  },
  {
   "cell_type": "code",
   "execution_count": null,
   "metadata": {
    "id": "L0yS1XXk1dEh"
   },
   "outputs": [],
   "source": []
  },
  {
   "cell_type": "markdown",
   "metadata": {
    "id": "tNvcGTRdDR7W"
   },
   "source": [
    "#### ② US-> Sales"
   ]
  },
  {
   "cell_type": "markdown",
   "metadata": {
    "id": "6MogyttSHtyA"
   },
   "source": [
    "1) 시각화 : 평균비교 barplot"
   ]
  },
  {
   "cell_type": "code",
   "execution_count": 52,
   "metadata": {
    "id": "IqMbHCT0HtyA"
   },
   "outputs": [],
   "source": [
    "feature = 'US'\n",
    "yes = data.loc[data[feature] == 'Yes', target]\n",
    "no =  data.loc[data[feature] == 'No', target]"
   ]
  },
  {
   "cell_type": "code",
   "execution_count": 54,
   "metadata": {},
   "outputs": [
    {
     "data": {
      "image/png": "[encoded data removed]",
      "text/plain": [
       "<Figure size 432x288 with 1 Axes>"
      ]
     },
     "metadata": {
      "needs_background": "light"
     },
     "output_type": "display_data"
    }
   ],
   "source": [
    "sns.barplot(x=feature,y=target,data=data)\n",
    "plt.grid()\n",
    "plt.show()"
   ]
  },
  {
   "cell_type": "markdown",
   "metadata": {
    "id": "0J6Rzq_2HtyB"
   },
   "source": [
    "2) 수치화 : t-test, anova"
   ]
  },
  {
   "cell_type": "code",
   "execution_count": 84,
   "metadata": {
    "id": "kQsDn-ksHtyB"
   },
   "outputs": [
    {
     "data": {
      "text/plain": [
       "Ttest_indResult(statistic=3.589738747802499, pvalue=0.00037233958701471517)"
      ]
     },
     "execution_count": 84,
     "metadata": {},
     "output_type": "execute_result"
    }
   ],
   "source": [
    "us_pr = spst.ttest_ind(yes,no)\n",
    "us_pr"
   ]
  },
  {
   "cell_type": "markdown",
   "metadata": {
    "id": "ab3nt7lAHtyB"
   },
   "source": [
    "3) 시각화와 수치화 결과로부터 파악한 내용을 적어 봅시다."
   ]
  },
  {
   "cell_type": "markdown",
   "metadata": {
    "id": "ZfKg--Zv8FBp"
   },
   "source": []
  },
  {
   "cell_type": "markdown",
   "metadata": {
    "id": "jAegTwTNANYZ"
   },
   "source": [
    "### (3) 관계 정리하기"
   ]
  },
  {
   "cell_type": "markdown",
   "metadata": {
    "id": "FlI3Rsn_ANYc"
   },
   "source": [
    "① 강한관계"
   ]
  },
  {
   "cell_type": "code",
   "execution_count": 89,
   "metadata": {
    "id": "DznSWI-gANYc"
   },
   "outputs": [
    {
     "data": {
      "text/plain": [
       "Ttest_indResult(statistic=3.589738747802499, pvalue=0.00037233958701471517)"
      ]
     },
     "execution_count": 89,
     "metadata": {},
     "output_type": "execute_result"
    }
   ],
   "source": [
    "shelve, price_diff"
   ]
  },
  {
   "cell_type": "markdown",
   "metadata": {
    "id": "Ktdide4rANYd"
   },
   "source": [
    "② 중간관계"
   ]
  },
  {
   "cell_type": "code",
   "execution_count": null,
   "metadata": {
    "id": "cYOZmmi5ANYd"
   },
   "outputs": [],
   "source": [
    "us, price, age, advertising"
   ]
  },
  {
   "cell_type": "markdown",
   "metadata": {
    "id": "Kop_jo4nANYd"
   },
   "source": [
    "③ 관계없음"
   ]
  },
  {
   "cell_type": "code",
   "execution_count": null,
   "metadata": {
    "id": "T_-UxZG1ANYd"
   },
   "outputs": [],
   "source": [
    "comprice, population"
   ]
  },
  {
   "cell_type": "markdown",
   "metadata": {
    "id": "5ZbpQQrXPdOm"
   },
   "source": [
    "# 2.범주형 Y"
   ]
  },
  {
   "cell_type": "markdown",
   "metadata": {
    "id": "h1wBK63N7OvI"
   },
   "source": [
    "## 1.1 타이타닉 탑승객 데이터 : 기본"
   ]
  },
  {
   "cell_type": "markdown",
   "metadata": {
    "id": "k7uydL4kJ4q9"
   },
   "source": [
    "![](https://images0.persgroep.net/rcs/0XaEsm6zKVcBbpINLInGGmU2F8w/diocontent/22495473/_crop/2/111/1997/1128/_fitwidth/763?appId=93a17a8fd81db0de025c8abd1cca1279&quality=0.8)"
   ]
  },
  {
   "cell_type": "markdown",
   "metadata": {
    "id": "TfbvPh-zgmT6"
   },
   "source": [
    "|\t변수\t|\t설명\t|\t값 설명\t|\n",
    "|\t----\t|\t----\t|\t----\t|\n",
    "|\tsurvived\t|\t생존여부\t|\t0 - 사망, 1- 생존\t|\n",
    "|\tPclass\t|\tTicket class\t|\t1 = 1st, 2 = 2nd, 3 = 3rd\t|\n",
    "|\tSex\t|\t성별\t|\t\t|\n",
    "|\tAge\t|\tAge in years\t|\t\t|\n",
    "|\tSibsp\t|\t# of siblings / spouses aboard the Titanic\t|\t\t|\n",
    "|\tParch\t|\t# of parents / children aboard the Titanic\t|\t\t|\n",
    "|\tTicket\t|\tTicket number\t|\t\t|\n",
    "|\tFare\t|\tPassenger fare\t|\t\t|\n",
    "|\tCabin\t|\tCabin number\t|\t\t|\n",
    "|\tEmbarked\t|\tPort of Embarkation\t|\tC = Cherbourg, Q = Queenstown, S = Southampton\t|\n"
   ]
  },
  {
   "cell_type": "code",
   "execution_count": null,
   "metadata": {
    "id": "b9gUzLn2OdIE"
   },
   "outputs": [],
   "source": [
    "titanic = pd.read_csv('https://bit.ly/3FsgwkJ')\n",
    "titanic.head()"
   ]
  },
  {
   "cell_type": "code",
   "execution_count": null,
   "metadata": {
    "id": "RIFcS91Fuc9l"
   },
   "outputs": [],
   "source": [
    "target = 'Survived'"
   ]
  },
  {
   "cell_type": "markdown",
   "metadata": {
    "id": "VFAJULPiVQ75"
   },
   "source": [
    "### (1) 숫자형 X --> 범주형 Y\n",
    "\n",
    "* 그래프 : histogram, densityplot\n",
    "* 수치화 : 로지스틱회귀  \n",
    "* 관계 평가"
   ]
  },
  {
   "cell_type": "markdown",
   "metadata": {
    "id": "kqX5E-ksv4Bl"
   },
   "source": [
    "#### ① Age --> Survived"
   ]
  },
  {
   "cell_type": "code",
   "execution_count": null,
   "metadata": {
    "id": "l4jaLATWw-Xx"
   },
   "outputs": [],
   "source": []
  },
  {
   "cell_type": "markdown",
   "metadata": {
    "id": "0yfB9aOqVrGD"
   },
   "source": [
    "1) 그래프 : histogram, densityplot"
   ]
  },
  {
   "cell_type": "code",
   "execution_count": null,
   "metadata": {
    "id": "tYoULv3RVpNi"
   },
   "outputs": [],
   "source": []
  },
  {
   "cell_type": "code",
   "execution_count": null,
   "metadata": {
    "id": "jlbNsco1Vo0C"
   },
   "outputs": [],
   "source": []
  },
  {
   "cell_type": "markdown",
   "metadata": {
    "id": "IKurDXL3VuE9"
   },
   "source": [
    "2) 수치화 : 로지스틱회귀"
   ]
  },
  {
   "cell_type": "code",
   "execution_count": null,
   "metadata": {
    "id": "2nyJgK_AVu62"
   },
   "outputs": [],
   "source": []
  },
  {
   "cell_type": "markdown",
   "metadata": {
    "id": "3gqPQQKrVy7f"
   },
   "source": [
    "3) 관계 평가하기"
   ]
  },
  {
   "cell_type": "code",
   "execution_count": null,
   "metadata": {
    "id": "auja-A_wVy7f"
   },
   "outputs": [],
   "source": []
  },
  {
   "cell_type": "markdown",
   "metadata": {
    "id": "q5-sA6cHVy7f"
   },
   "source": [
    "4) 추가 분석할 내용 정리"
   ]
  },
  {
   "cell_type": "code",
   "execution_count": null,
   "metadata": {
    "id": "Nf5H5HcIVy7f"
   },
   "outputs": [],
   "source": []
  },
  {
   "cell_type": "markdown",
   "metadata": {
    "id": "9vSL-x3QV3I8"
   },
   "source": [
    "#### ② Fare --> Survived"
   ]
  },
  {
   "cell_type": "code",
   "execution_count": null,
   "metadata": {
    "id": "pW-VCR1LxbUr"
   },
   "outputs": [],
   "source": []
  },
  {
   "cell_type": "markdown",
   "metadata": {
    "id": "AtK2un0oV3I8"
   },
   "source": [
    "1) 그래프 : histogram, densityplot"
   ]
  },
  {
   "cell_type": "code",
   "execution_count": null,
   "metadata": {
    "id": "6tnMQc1h1juR"
   },
   "outputs": [],
   "source": []
  },
  {
   "cell_type": "code",
   "execution_count": null,
   "metadata": {
    "id": "7b_YPA6N1jrV"
   },
   "outputs": [],
   "source": []
  },
  {
   "cell_type": "markdown",
   "metadata": {
    "id": "lZryaa_gV3I9"
   },
   "source": [
    "2) 수치화 : 로지스틱회귀"
   ]
  },
  {
   "cell_type": "code",
   "execution_count": null,
   "metadata": {
    "id": "wzV8FglJV3I9"
   },
   "outputs": [],
   "source": []
  },
  {
   "cell_type": "markdown",
   "metadata": {
    "id": "hqBsG6RPV3I-"
   },
   "source": [
    "3) 관계 평가하기"
   ]
  },
  {
   "cell_type": "code",
   "execution_count": null,
   "metadata": {
    "id": "-u78N6-yV3I-"
   },
   "outputs": [],
   "source": []
  },
  {
   "cell_type": "markdown",
   "metadata": {
    "id": "27HXgBXqV3I-"
   },
   "source": [
    "4) 추가 분석할 내용 정리"
   ]
  },
  {
   "cell_type": "code",
   "execution_count": null,
   "metadata": {
    "id": "r3rCI31BV3I-"
   },
   "outputs": [],
   "source": []
  },
  {
   "cell_type": "markdown",
   "metadata": {
    "id": "mt5d0rUnWBQB"
   },
   "source": [
    "### (2) 범주형 X --> 범주형 Y\n",
    "\n",
    "* 교차표(pd.crosstab())\n",
    "* 시각화( Stacked Bar, Mosaic)\n",
    "* 가설검정(카이제곱검정)\n",
    "* 관계 평가"
   ]
  },
  {
   "cell_type": "markdown",
   "metadata": {
    "id": "ihzfKvbNWBQB"
   },
   "source": [
    "#### ① Sex --> Survived"
   ]
  },
  {
   "cell_type": "code",
   "execution_count": null,
   "metadata": {
    "id": "uhubgGxpzwN0"
   },
   "outputs": [],
   "source": []
  },
  {
   "cell_type": "markdown",
   "metadata": {
    "id": "jgI2ZFA6WBQB"
   },
   "source": [
    "1) 교차표(pd.crosstab())"
   ]
  },
  {
   "cell_type": "code",
   "execution_count": null,
   "metadata": {
    "id": "ygCsomFvWBQB"
   },
   "outputs": [],
   "source": []
  },
  {
   "cell_type": "markdown",
   "metadata": {
    "id": "o6SnEmC6WBQB"
   },
   "source": [
    "2) 시각화( Stacked Bar, Mosaic)"
   ]
  },
  {
   "cell_type": "code",
   "execution_count": null,
   "metadata": {
    "id": "p8bWX4ts1lrE"
   },
   "outputs": [],
   "source": []
  },
  {
   "cell_type": "code",
   "execution_count": null,
   "metadata": {
    "id": "ydcyiglY1loJ"
   },
   "outputs": [],
   "source": []
  },
  {
   "cell_type": "markdown",
   "metadata": {
    "id": "2JqA4UsEWBQC"
   },
   "source": [
    "3) 가설검정(카이제곱검정)"
   ]
  },
  {
   "cell_type": "code",
   "execution_count": null,
   "metadata": {
    "id": "xAWcx5TZWBQC"
   },
   "outputs": [],
   "source": []
  },
  {
   "cell_type": "markdown",
   "metadata": {
    "id": "0S1zHGcDWBQC"
   },
   "source": [
    "4) 관계 평가하기"
   ]
  },
  {
   "cell_type": "code",
   "execution_count": null,
   "metadata": {
    "id": "7Wk9YNU3WBQC"
   },
   "outputs": [],
   "source": []
  },
  {
   "cell_type": "markdown",
   "metadata": {
    "id": "PPI5KmQXW8vS"
   },
   "source": [
    "5) 추가 분석하기"
   ]
  },
  {
   "cell_type": "code",
   "execution_count": null,
   "metadata": {
    "id": "U8IeV7zGW8vS"
   },
   "outputs": [],
   "source": []
  },
  {
   "cell_type": "markdown",
   "metadata": {
    "id": "OfFcllY1XBBG"
   },
   "source": [
    "#### ② Pclass --> Survived"
   ]
  },
  {
   "cell_type": "code",
   "execution_count": null,
   "metadata": {
    "id": "ciKx2w0Hz0c6"
   },
   "outputs": [],
   "source": []
  },
  {
   "cell_type": "markdown",
   "metadata": {
    "id": "I8WMdI6Cz0c7"
   },
   "source": [
    "1) 교차표(pd.crosstab())"
   ]
  },
  {
   "cell_type": "code",
   "execution_count": null,
   "metadata": {
    "id": "H4n6u5-mz0c8"
   },
   "outputs": [],
   "source": []
  },
  {
   "cell_type": "markdown",
   "metadata": {
    "id": "0sHmYSxlz0c8"
   },
   "source": [
    "2) 시각화( Stacked Bar, Mosaic)"
   ]
  },
  {
   "cell_type": "code",
   "execution_count": null,
   "metadata": {
    "id": "9b-fEdl3z0c8"
   },
   "outputs": [],
   "source": []
  },
  {
   "cell_type": "code",
   "execution_count": null,
   "metadata": {
    "id": "a1vpLlC4z0c8"
   },
   "outputs": [],
   "source": []
  },
  {
   "cell_type": "markdown",
   "metadata": {
    "id": "NBMeIP16z0c9"
   },
   "source": [
    "3) 가설검정(카이제곱검정)"
   ]
  },
  {
   "cell_type": "code",
   "execution_count": null,
   "metadata": {
    "id": "SbTccKy2z0c9"
   },
   "outputs": [],
   "source": []
  },
  {
   "cell_type": "markdown",
   "metadata": {
    "id": "e5lAEPkkXBBH"
   },
   "source": [
    "4) 관계 평가하기"
   ]
  },
  {
   "cell_type": "code",
   "execution_count": null,
   "metadata": {
    "id": "4KfEEq4CXBBH"
   },
   "outputs": [],
   "source": []
  },
  {
   "cell_type": "markdown",
   "metadata": {
    "id": "qjl96aV0XBBH"
   },
   "source": [
    "5) 추가 분석하기"
   ]
  },
  {
   "cell_type": "code",
   "execution_count": null,
   "metadata": {
    "id": "SSccuallXBBH"
   },
   "outputs": [],
   "source": []
  },
  {
   "cell_type": "markdown",
   "metadata": {
    "id": "yVfh3ywJXGPO"
   },
   "source": [
    "#### ③ Embarked --> Survived"
   ]
  },
  {
   "cell_type": "code",
   "execution_count": null,
   "metadata": {
    "id": "nZD25fhbz3Y9"
   },
   "outputs": [],
   "source": []
  },
  {
   "cell_type": "markdown",
   "metadata": {
    "id": "LZDu-UtYz3Y-"
   },
   "source": [
    "1) 교차표(pd.crosstab())"
   ]
  },
  {
   "cell_type": "code",
   "execution_count": null,
   "metadata": {
    "id": "WNa97uz6z3Y-"
   },
   "outputs": [],
   "source": []
  },
  {
   "cell_type": "markdown",
   "metadata": {
    "id": "t5QkeY_pz3Y_"
   },
   "source": [
    "2) 시각화( Stacked Bar, Mosaic)"
   ]
  },
  {
   "cell_type": "code",
   "execution_count": null,
   "metadata": {
    "id": "Kq1f47kXz3Y_"
   },
   "outputs": [],
   "source": []
  },
  {
   "cell_type": "code",
   "execution_count": null,
   "metadata": {
    "id": "3PMks4-Vz3Y_"
   },
   "outputs": [],
   "source": []
  },
  {
   "cell_type": "markdown",
   "metadata": {
    "id": "fSMqvDt-z3Y_"
   },
   "source": [
    "3) 가설검정(카이제곱검정)"
   ]
  },
  {
   "cell_type": "code",
   "execution_count": null,
   "metadata": {
    "id": "XL9z25qtz3Y_"
   },
   "outputs": [],
   "source": []
  },
  {
   "cell_type": "markdown",
   "metadata": {
    "id": "05vTm3YrXGPP"
   },
   "source": [
    "4) 관계 평가하기"
   ]
  },
  {
   "cell_type": "code",
   "execution_count": null,
   "metadata": {
    "id": "VcpiAQ0EXGPP"
   },
   "outputs": [],
   "source": []
  },
  {
   "cell_type": "markdown",
   "metadata": {
    "id": "Goph2JJnXGPP"
   },
   "source": [
    "5) 추가 분석하기"
   ]
  },
  {
   "cell_type": "code",
   "execution_count": null,
   "metadata": {
    "id": "5AVRmmOPXGPP"
   },
   "outputs": [],
   "source": []
  },
  {
   "cell_type": "markdown",
   "metadata": {
    "id": "N44hmAUyXmz0"
   },
   "source": [
    "### (3) 관계 정리하기"
   ]
  },
  {
   "cell_type": "markdown",
   "metadata": {
    "id": "uthFRVaSXmz0"
   },
   "source": [
    "① 강한관계"
   ]
  },
  {
   "cell_type": "code",
   "execution_count": null,
   "metadata": {
    "id": "_vFHM4dZXmz1"
   },
   "outputs": [],
   "source": []
  },
  {
   "cell_type": "markdown",
   "metadata": {
    "id": "SgkhCYSZXmz1"
   },
   "source": [
    "② 중간관계"
   ]
  },
  {
   "cell_type": "code",
   "execution_count": null,
   "metadata": {
    "id": "PnuBq_HmXmz1"
   },
   "outputs": [],
   "source": []
  },
  {
   "cell_type": "markdown",
   "metadata": {
    "id": "SYJ22vFmXmz1"
   },
   "source": [
    "③ 관계없음"
   ]
  },
  {
   "cell_type": "code",
   "execution_count": null,
   "metadata": {
    "id": "a2Y4OvxGXmz1"
   },
   "outputs": [],
   "source": []
  }
 ],
 "metadata": {
  "colab": {
   "collapsed_sections": [],
   "name": "11과 이변량분석_종합실습.ipynb",
   "provenance": [],
   "toc_visible": true
  },
  "kernelspec": {
   "display_name": "Python 3",
   "language": "python",
   "name": "python3"
  },
  "language_info": {
   "codemirror_mode": {
    "name": "ipython",
    "version": 3
   },
   "file_extension": ".py",
   "mimetype": "text/x-python",
   "name": "python",
   "nbconvert_exporter": "python",
   "pygments_lexer": "ipython3",
   "version": "3.8.8"
  }
 },
 "nbformat": 4,
 "nbformat_minor": 4
}
